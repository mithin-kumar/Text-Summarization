{
 "cells": [
  {
   "cell_type": "code",
   "execution_count": 1,
   "id": "0c3d9efb",
   "metadata": {},
   "outputs": [
    {
     "name": "stderr",
     "output_type": "stream",
     "text": [
      "[nltk_data] Downloading package stopwords to\n",
      "[nltk_data]     C:\\Users\\mithi\\AppData\\Roaming\\nltk_data...\n",
      "[nltk_data]   Package stopwords is already up-to-date!\n",
      "[nltk_data] Downloading package wordnet to\n",
      "[nltk_data]     C:\\Users\\mithi\\AppData\\Roaming\\nltk_data...\n",
      "[nltk_data]   Package wordnet is already up-to-date!\n"
     ]
    },
    {
     "data": {
      "text/plain": [
       "True"
      ]
     },
     "execution_count": 1,
     "metadata": {},
     "output_type": "execute_result"
    }
   ],
   "source": [
    "#importing libraries\n",
    "import re\n",
    "from nltk.tokenize import sent_tokenize\n",
    "import nltk\n",
    "nltk.download('stopwords')\n",
    "import numpy as np\n",
    "from nltk.corpus import stopwords\n",
    "from nltk.stem.porter import PorterStemmer\n",
    "from gensim.models import Word2Vec\n",
    "from scipy  import spatial\n",
    "nltk.download('wordnet')\n",
    "from nltk.stem import WordNetLemmatizer\n",
    "wnl = WordNetLemmatizer()"
   ]
  },
  {
   "cell_type": "code",
   "execution_count": null,
   "id": "5440e366",
   "metadata": {},
   "outputs": [],
   "source": []
  },
  {
   "cell_type": "code",
   "execution_count": 3,
   "id": "23f68de7",
   "metadata": {},
   "outputs": [],
   "source": [
    "\n",
    "f=open('text.txt','r')"
   ]
  },
  {
   "cell_type": "code",
   "execution_count": 4,
   "id": "19410217",
   "metadata": {},
   "outputs": [],
   "source": [
    "#breaking the text into sentances\n",
    "text=[]\n",
    "for line in f:\n",
    "    text.append(line)"
   ]
  },
  {
   "cell_type": "code",
   "execution_count": 5,
   "id": "ab2ddc3f",
   "metadata": {},
   "outputs": [],
   "source": [
    "def split(text):\n",
    "    sentances=[]\n",
    "    for line in text:\n",
    "        sentances=line.split('.')\n",
    "    return sentances    "
   ]
  },
  {
   "cell_type": "code",
   "execution_count": 6,
   "id": "40ccef0c",
   "metadata": {},
   "outputs": [],
   "source": [
    "def clean(sentances):\n",
    "    corpus=[]\n",
    "    for item in sentances:\n",
    "        \n",
    "        sentance=re.sub('[^a-zA-Z]',' ',item)\n",
    "        sentance=sentance.split()\n",
    "        \n",
    "        stop_words=stopwords.words('english')\n",
    "        s=[ wnl.lemmatize(word) for word in sentance if word not in set(stop_words)]\n",
    "        review=' '.join(s)\n",
    "        corpus.append(review)\n",
    "    return corpus\n",
    "    "
   ]
  },
  {
   "cell_type": "code",
   "execution_count": 7,
   "id": "a4f26c69",
   "metadata": {},
   "outputs": [],
   "source": [
    "def vectorize(sentances):\n",
    "    sentance_tokens=[[word for word in sentance.split(' ')] for sentance in sentances]\n",
    "    model1 = Word2Vec(sentance_tokens, min_count = 1, \n",
    "                              vector_size = 1, window = 5)\n",
    "    tokens=[[model1.wv[word][0] for word in words]for words in sentance_tokens]\n",
    "    max_len=max([len(words)for words in tokens])\n",
    "\n",
    "    vectors=[np.pad(words,(0,max_len-len(words)),'constant')for words in tokens]\n",
    "    \n",
    "    return vectors\n",
    "    "
   ]
  },
  {
   "cell_type": "code",
   "execution_count": 8,
   "id": "f1cc7758",
   "metadata": {},
   "outputs": [],
   "source": [
    "def similarity(vectors):\n",
    "    similarity_matrix=np.zeros([len(vectors),len(vectors)])\n",
    "    #calculating the spatial distance \n",
    "    for i,row_embedding in enumerate(vectors):\n",
    "        for j,column_embedding in enumerate(vectors):\n",
    "             similarity_matrix[i][j]=1-spatial.distance.cosine(row_embedding,column_embedding)\n",
    "    return similarity_matrix;            \n",
    "    "
   ]
  },
  {
   "cell_type": "code",
   "execution_count": 11,
   "id": "798906dd",
   "metadata": {},
   "outputs": [],
   "source": [
    "def summarizer(text,lines):\n",
    "    \n",
    "    sentances=split(text)\n",
    "    \n",
    "    sentance=clean(sentances)\n",
    "    \n",
    "    vectors=vectorize(sentance)\n",
    "    \n",
    "    matrix=similarity(vectors)\n",
    "    \n",
    "    TextRank=np.ones([len(matrix[0])])\n",
    "    TextRank.reshape(13,)\n",
    "    \n",
    "    for i in range(len(matrix[0])):\n",
    "        for j in range(len(matrix[0])):\n",
    "            if (j!=i):\n",
    "                relativity=0.85*(TextRank[j]*matrix[i][j])\n",
    "        TextRank[i]=(1-0.85)+relativity     \n",
    "        \n",
    "    top_sentance={sentance:TextRank[index] for index ,sentance in enumerate(sentences)}\n",
    "    top=dict(sorted(top_sentance.items(), key=lambda x: x[1], reverse=True)[:lines])\n",
    "    \n",
    "    summary=[]\n",
    "    for sent in sentances:\n",
    "        if sent in top.keys():\n",
    "            summary.append(sent)\n",
    "            \n",
    "     \n",
    "    return summary\n",
    "            \n",
    "    \n",
    "    \n",
    "    \n",
    "    \n",
    "    \n",
    "    \n",
    "    \n",
    "    \n",
    "    \n",
    "    "
   ]
  },
  {
   "cell_type": "code",
   "execution_count": 13,
   "id": "fa1a4ef0",
   "metadata": {},
   "outputs": [
    {
     "data": {
      "text/plain": [
       "['In its most general sense, the term \"world\" refers to the totality of entities, to the whole of reality or to everything that is',\n",
       " ' In scientific cosmology the world or universe is commonly defined as \"[t]he totality of all space and time; all that is, has been, and will be\"',\n",
       " ' Phenomenology, starting from the horizon of co-given objects present in the periphery of every experience, defines the world as the biggest horizon or the \"horizon of all horizons\"',\n",
       " \" Theology conceptualizes the world in relation to God, for example, as God's creation, as identical to God or as the two being interdependent\",\n",
       " ' Cosmogony is the field that studies the origin or creation of the world while eschatology refers to the science or doctrine of the last things or of the end of the world',\n",
       " '']"
      ]
     },
     "execution_count": 13,
     "metadata": {},
     "output_type": "execute_result"
    }
   ],
   "source": [
    "summarizer(text,6)"
   ]
  },
  {
   "cell_type": "code",
   "execution_count": null,
   "id": "602a7648",
   "metadata": {},
   "outputs": [],
   "source": []
  }
 ],
 "metadata": {
  "kernelspec": {
   "display_name": "Python 3 (ipykernel)",
   "language": "python",
   "name": "python3"
  },
  "language_info": {
   "codemirror_mode": {
    "name": "ipython",
    "version": 3
   },
   "file_extension": ".py",
   "mimetype": "text/x-python",
   "name": "python",
   "nbconvert_exporter": "python",
   "pygments_lexer": "ipython3",
   "version": "3.9.7"
  }
 },
 "nbformat": 4,
 "nbformat_minor": 5
}
