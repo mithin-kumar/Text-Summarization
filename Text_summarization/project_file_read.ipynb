{
 "cells": [
  {
   "cell_type": "code",
   "execution_count": 2,
   "id": "23f68de7",
   "metadata": {},
   "outputs": [],
   "source": [
    "#The text that  has to be  summarized should be pasted in the file named 'text'\n",
    "f=open('text.txt','r')"
   ]
  },
  {
   "cell_type": "code",
   "execution_count": 3,
   "id": "19410217",
   "metadata": {},
   "outputs": [],
   "source": [
    "#breaking the text into sentances\n",
    "text=[]\n",
    "sentences=[]\n",
    "for line in f:\n",
    "    sentences=line.split('.')\n",
    "    text.append(line)"
   ]
  },
  {
   "cell_type": "code",
   "execution_count": 4,
   "id": "40ccef0c",
   "metadata": {},
   "outputs": [
    {
     "data": {
      "text/plain": [
       "['In its most general sense, the term \"world\" refers to the totality of entities, to the whole of reality or to everything that is.[1] The nature of the world has been conceptualized differently in different fields. Some conceptions see the world as unique while others talk of a \"plurality of worlds\". Some treat the world as one simple object while others analyze the world as a complex made up of many parts. In scientific cosmology the world or universe is commonly defined as \"[t]he totality of all space and time; all that is, has been, and will be\". Theories of modality, on the other hand, talk of possible worlds as complete and consistent ways how things could have been. Phenomenology, starting from the horizon of co-given objects present in the periphery of every experience, defines the world as the biggest horizon or the \"horizon of all horizons\". In philosophy of mind, the world is commonly contrasted with the mind as that which is represented by the mind. Theology conceptualizes the world in relation to God, for example, as God\\'s creation, as identical to God or as the two being interdependent. In religions, there is often a tendency to downgrade the material or sensory world in favor of a spiritual world to be sought through religious practice. A comprehensive representation of the world and our place in it, as is commonly found in religions, is known as a worldview. Cosmogony is the field that studies the origin or creation of the world while eschatology refers to the science or doctrine of the last things or of the end of the world.']"
      ]
     },
     "execution_count": 4,
     "metadata": {},
     "output_type": "execute_result"
    }
   ],
   "source": [
    "text\n"
   ]
  },
  {
   "cell_type": "code",
   "execution_count": 5,
   "id": "f3bfe160",
   "metadata": {},
   "outputs": [
    {
     "data": {
      "text/plain": [
       "['In its most general sense, the term \"world\" refers to the totality of entities, to the whole of reality or to everything that is',\n",
       " '[1] The nature of the world has been conceptualized differently in different fields',\n",
       " ' Some conceptions see the world as unique while others talk of a \"plurality of worlds\"',\n",
       " ' Some treat the world as one simple object while others analyze the world as a complex made up of many parts',\n",
       " ' In scientific cosmology the world or universe is commonly defined as \"[t]he totality of all space and time; all that is, has been, and will be\"',\n",
       " ' Theories of modality, on the other hand, talk of possible worlds as complete and consistent ways how things could have been',\n",
       " ' Phenomenology, starting from the horizon of co-given objects present in the periphery of every experience, defines the world as the biggest horizon or the \"horizon of all horizons\"',\n",
       " ' In philosophy of mind, the world is commonly contrasted with the mind as that which is represented by the mind',\n",
       " \" Theology conceptualizes the world in relation to God, for example, as God's creation, as identical to God or as the two being interdependent\",\n",
       " ' In religions, there is often a tendency to downgrade the material or sensory world in favor of a spiritual world to be sought through religious practice',\n",
       " ' A comprehensive representation of the world and our place in it, as is commonly found in religions, is known as a worldview',\n",
       " ' Cosmogony is the field that studies the origin or creation of the world while eschatology refers to the science or doctrine of the last things or of the end of the world',\n",
       " '']"
      ]
     },
     "execution_count": 5,
     "metadata": {},
     "output_type": "execute_result"
    }
   ],
   "source": [
    "sentences"
   ]
  },
  {
   "cell_type": "code",
   "execution_count": 6,
   "id": "43219218",
   "metadata": {},
   "outputs": [],
   "source": [
    "#importing libraries\n",
    "import re\n",
    "from nltk.tokenize import sent_tokenize"
   ]
  },
  {
   "cell_type": "code",
   "execution_count": 21,
   "id": "3b7bc481",
   "metadata": {},
   "outputs": [
    {
     "name": "stderr",
     "output_type": "stream",
     "text": [
      "[nltk_data] Downloading package stopwords to\n",
      "[nltk_data]     C:\\Users\\mithi\\AppData\\Roaming\\nltk_data...\n",
      "[nltk_data]   Package stopwords is already up-to-date!\n"
     ]
    }
   ],
   "source": [
    "import nltk\n",
    "nltk.download('stopwords')\n",
    "import numpy as np\n",
    "from nltk.corpus import stopwords\n",
    "from nltk.stem.porter import PorterStemmer\n",
    "from gensim.models import Word2Vec\n",
    "from scipy  import spatial"
   ]
  },
  {
   "cell_type": "code",
   "execution_count": 8,
   "id": "b6113bb4",
   "metadata": {},
   "outputs": [
    {
     "data": {
      "text/plain": [
       "<WordListCorpusReader in 'C:\\\\Users\\\\mithi\\\\AppData\\\\Roaming\\\\nltk_data\\\\corpora\\\\stopwords'>"
      ]
     },
     "execution_count": 8,
     "metadata": {},
     "output_type": "execute_result"
    }
   ],
   "source": [
    "#stopwords in nltk corpus\n",
    "stopwords"
   ]
  },
  {
   "cell_type": "code",
   "execution_count": 11,
   "id": "ec91f7b8",
   "metadata": {
    "scrolled": false
   },
   "outputs": [
    {
     "name": "stdout",
     "output_type": "stream",
     "text": [
      "['in gener sens term world refer total entiti whole realiti everyth', 'the natur world conceptu differ differ field', 'some concept see world uniqu other talk plural world', 'some treat world one simpl object other analyz world complex made mani part', 'in scientif cosmolog world univers commonli defin total space time', 'theori modal hand talk possibl world complet consist way thing could', 'phenomenolog start horizon co given object present peripheri everi experi defin world biggest horizon horizon horizon', 'in philosophi mind world commonli contrast mind repres mind', 'theolog conceptu world relat god exampl god creation ident god two interdepend', 'in religion often tendenc downgrad materi sensori world favor spiritu world sought religi practic', 'a comprehens represent world place commonli found religion known worldview', 'cosmogoni field studi origin creation world eschatolog refer scienc doctrin last thing end world', '']\n"
     ]
    }
   ],
   "source": [
    "#cleaning the sentences (removing stopwords and stemming)\n",
    "corpus=[]\n",
    "for item in sentences:\n",
    "    sentance=re.sub('[^a-zA-Z]',' ',item)\n",
    "    sentance=sentance.split()\n",
    "    ps=PorterStemmer()\n",
    "    stop_words=stopwords.words('english')\n",
    "    sentance=[ps.stem(word) for word in sentance if word not in set(stop_words)]\n",
    "    review=' '.join(sentance)\n",
    "    corpus.append(review)\n",
    "print(corpus)    "
   ]
  },
  {
   "cell_type": "code",
   "execution_count": 12,
   "id": "0c0a583d",
   "metadata": {},
   "outputs": [
    {
     "data": {
      "text/plain": [
       "13"
      ]
     },
     "execution_count": 12,
     "metadata": {},
     "output_type": "execute_result"
    }
   ],
   "source": [
    "len(corpus)"
   ]
  },
  {
   "cell_type": "code",
   "execution_count": 13,
   "id": "04d3cd81",
   "metadata": {},
   "outputs": [],
   "source": [
    "#tokenizing each sentences\n",
    "sentance_tokens=[[word for word in sentance.split(' ')] for sentance in corpus]"
   ]
  },
  {
   "cell_type": "code",
   "execution_count": 14,
   "id": "baa7b027",
   "metadata": {},
   "outputs": [
    {
     "data": {
      "text/plain": [
       "[['in',\n",
       "  'gener',\n",
       "  'sens',\n",
       "  'term',\n",
       "  'world',\n",
       "  'refer',\n",
       "  'total',\n",
       "  'entiti',\n",
       "  'whole',\n",
       "  'realiti',\n",
       "  'everyth'],\n",
       " ['the', 'natur', 'world', 'conceptu', 'differ', 'differ', 'field'],\n",
       " ['some',\n",
       "  'concept',\n",
       "  'see',\n",
       "  'world',\n",
       "  'uniqu',\n",
       "  'other',\n",
       "  'talk',\n",
       "  'plural',\n",
       "  'world'],\n",
       " ['some',\n",
       "  'treat',\n",
       "  'world',\n",
       "  'one',\n",
       "  'simpl',\n",
       "  'object',\n",
       "  'other',\n",
       "  'analyz',\n",
       "  'world',\n",
       "  'complex',\n",
       "  'made',\n",
       "  'mani',\n",
       "  'part'],\n",
       " ['in',\n",
       "  'scientif',\n",
       "  'cosmolog',\n",
       "  'world',\n",
       "  'univers',\n",
       "  'commonli',\n",
       "  'defin',\n",
       "  'total',\n",
       "  'space',\n",
       "  'time'],\n",
       " ['theori',\n",
       "  'modal',\n",
       "  'hand',\n",
       "  'talk',\n",
       "  'possibl',\n",
       "  'world',\n",
       "  'complet',\n",
       "  'consist',\n",
       "  'way',\n",
       "  'thing',\n",
       "  'could'],\n",
       " ['phenomenolog',\n",
       "  'start',\n",
       "  'horizon',\n",
       "  'co',\n",
       "  'given',\n",
       "  'object',\n",
       "  'present',\n",
       "  'peripheri',\n",
       "  'everi',\n",
       "  'experi',\n",
       "  'defin',\n",
       "  'world',\n",
       "  'biggest',\n",
       "  'horizon',\n",
       "  'horizon',\n",
       "  'horizon'],\n",
       " ['in',\n",
       "  'philosophi',\n",
       "  'mind',\n",
       "  'world',\n",
       "  'commonli',\n",
       "  'contrast',\n",
       "  'mind',\n",
       "  'repres',\n",
       "  'mind'],\n",
       " ['theolog',\n",
       "  'conceptu',\n",
       "  'world',\n",
       "  'relat',\n",
       "  'god',\n",
       "  'exampl',\n",
       "  'god',\n",
       "  'creation',\n",
       "  'ident',\n",
       "  'god',\n",
       "  'two',\n",
       "  'interdepend'],\n",
       " ['in',\n",
       "  'religion',\n",
       "  'often',\n",
       "  'tendenc',\n",
       "  'downgrad',\n",
       "  'materi',\n",
       "  'sensori',\n",
       "  'world',\n",
       "  'favor',\n",
       "  'spiritu',\n",
       "  'world',\n",
       "  'sought',\n",
       "  'religi',\n",
       "  'practic'],\n",
       " ['a',\n",
       "  'comprehens',\n",
       "  'represent',\n",
       "  'world',\n",
       "  'place',\n",
       "  'commonli',\n",
       "  'found',\n",
       "  'religion',\n",
       "  'known',\n",
       "  'worldview'],\n",
       " ['cosmogoni',\n",
       "  'field',\n",
       "  'studi',\n",
       "  'origin',\n",
       "  'creation',\n",
       "  'world',\n",
       "  'eschatolog',\n",
       "  'refer',\n",
       "  'scienc',\n",
       "  'doctrin',\n",
       "  'last',\n",
       "  'thing',\n",
       "  'end',\n",
       "  'world'],\n",
       " ['']]"
      ]
     },
     "execution_count": 14,
     "metadata": {},
     "output_type": "execute_result"
    }
   ],
   "source": [
    "sentance_tokens"
   ]
  },
  {
   "cell_type": "code",
   "execution_count": 16,
   "id": "99e3106f",
   "metadata": {},
   "outputs": [],
   "source": [
    "#training our Word2Vec Model \n",
    "model1 = Word2Vec(sentance_tokens, min_count = 1, \n",
    "                              vector_size = 1, window = 5)"
   ]
  },
  {
   "cell_type": "code",
   "execution_count": 17,
   "id": "1bd46c0b",
   "metadata": {},
   "outputs": [],
   "source": [
    "#vectorising our sentances\n",
    "tokens=[[model1.wv[word][0] for word in words]for words in sentance_tokens]"
   ]
  },
  {
   "cell_type": "code",
   "execution_count": 12,
   "id": "a4f26c69",
   "metadata": {},
   "outputs": [],
   "source": []
  },
  {
   "cell_type": "code",
   "execution_count": 14,
   "id": "f1cc7758",
   "metadata": {},
   "outputs": [],
   "source": []
  },
  {
   "cell_type": "code",
   "execution_count": 18,
   "id": "7bf4994c",
   "metadata": {},
   "outputs": [
    {
     "data": {
      "text/plain": [
       "[[0.023247886,\n",
       "  -0.39364037,\n",
       "  0.6349584,\n",
       "  0.07630539,\n",
       "  -0.051768158,\n",
       "  -0.82864773,\n",
       "  0.09953679,\n",
       "  -0.59314114,\n",
       "  -0.47507164,\n",
       "  0.50062376,\n",
       "  -0.02995544],\n",
       " [-0.76582056,\n",
       "  -0.19377422,\n",
       "  -0.051768158,\n",
       "  0.28781956,\n",
       "  0.6459297,\n",
       "  0.6459297,\n",
       "  -0.4862234],\n",
       " [0.6567034,\n",
       "  0.9239351,\n",
       "  0.49815807,\n",
       "  -0.051768158,\n",
       "  0.96212375,\n",
       "  -0.45174807,\n",
       "  -0.15274553,\n",
       "  -0.002714385,\n",
       "  -0.051768158],\n",
       " [0.6567034,\n",
       "  -0.43931848,\n",
       "  -0.051768158,\n",
       "  -0.8148006,\n",
       "  -0.96027166,\n",
       "  -0.37607193,\n",
       "  -0.45174807,\n",
       "  0.0043790606,\n",
       "  -0.051768158,\n",
       "  0.8081796,\n",
       "  -0.23234248,\n",
       "  -0.9446562,\n",
       "  -0.73142743],\n",
       " [0.023247886,\n",
       "  0.7317497,\n",
       "  0.50684273,\n",
       "  -0.051768158,\n",
       "  0.6763823,\n",
       "  0.9013626,\n",
       "  0.8975486,\n",
       "  0.09953679,\n",
       "  -0.33883277,\n",
       "  -0.09449977],\n",
       " [0.57717866,\n",
       "  -0.75172454,\n",
       "  -0.75124997,\n",
       "  -0.15274553,\n",
       "  -0.092978634,\n",
       "  -0.051768158,\n",
       "  0.9540182,\n",
       "  -0.8752181,\n",
       "  -0.41259506,\n",
       "  -0.18119475,\n",
       "  0.057885617],\n",
       " [-0.8919565,\n",
       "  -0.26473898,\n",
       "  0.5104065,\n",
       "  -0.8751015,\n",
       "  -0.08491067,\n",
       "  -0.37607193,\n",
       "  0.28288808,\n",
       "  0.5406561,\n",
       "  0.7054907,\n",
       "  -0.56895036,\n",
       "  0.8975486,\n",
       "  -0.051768158,\n",
       "  0.18635957,\n",
       "  0.5104065,\n",
       "  0.5104065,\n",
       "  0.5104065],\n",
       " [0.023247886,\n",
       "  0.608758,\n",
       "  -0.93018657,\n",
       "  -0.051768158,\n",
       "  0.9013626,\n",
       "  -0.47974053,\n",
       "  -0.93018657,\n",
       "  -0.31010798,\n",
       "  -0.93018657],\n",
       " [0.6795958,\n",
       "  0.28781956,\n",
       "  -0.051768158,\n",
       "  0.16400494,\n",
       "  -0.7102248,\n",
       "  0.018684253,\n",
       "  -0.7102248,\n",
       "  -0.50166523,\n",
       "  0.34768084,\n",
       "  -0.7102248,\n",
       "  0.022484275,\n",
       "  0.96315235],\n",
       " [0.023247886,\n",
       "  0.73728114,\n",
       "  0.50598425,\n",
       "  0.74393237,\n",
       "  0.43673223,\n",
       "  0.083013095,\n",
       "  -0.9205773,\n",
       "  -0.051768158,\n",
       "  0.84987897,\n",
       "  -0.44621778,\n",
       "  -0.051768158,\n",
       "  0.4513989,\n",
       "  -0.678585,\n",
       "  -0.35492793],\n",
       " [0.9396082,\n",
       "  -0.157767,\n",
       "  0.030791946,\n",
       "  -0.051768158,\n",
       "  -0.41589862,\n",
       "  0.9013626,\n",
       "  -0.7679823,\n",
       "  0.73728114,\n",
       "  -0.15140039,\n",
       "  0.24740323],\n",
       " [-0.088802814,\n",
       "  -0.4862234,\n",
       "  0.5528817,\n",
       "  -0.2748164,\n",
       "  -0.50166523,\n",
       "  -0.051768158,\n",
       "  0.22570798,\n",
       "  -0.82864773,\n",
       "  0.54557693,\n",
       "  0.83454055,\n",
       "  -0.14599937,\n",
       "  -0.18119475,\n",
       "  -0.08167464,\n",
       "  -0.051768158],\n",
       " [0.44957972]]"
      ]
     },
     "execution_count": 18,
     "metadata": {},
     "output_type": "execute_result"
    }
   ],
   "source": [
    "tokens"
   ]
  },
  {
   "cell_type": "code",
   "execution_count": 19,
   "id": "aa3b463c",
   "metadata": {},
   "outputs": [
    {
     "data": {
      "text/plain": [
       "13"
      ]
     },
     "execution_count": 19,
     "metadata": {},
     "output_type": "execute_result"
    }
   ],
   "source": [
    "len(tokens)"
   ]
  },
  {
   "cell_type": "code",
   "execution_count": 22,
   "id": "a32506c8",
   "metadata": {},
   "outputs": [],
   "source": [
    "#padding the tokens\n",
    "max_len=max([len(words)for words in tokens])\n",
    "\n",
    "tokens=[np.pad(words,(0,max_len-len(words)),'constant')for words in tokens]"
   ]
  },
  {
   "cell_type": "code",
   "execution_count": 23,
   "id": "62a43e9c",
   "metadata": {},
   "outputs": [
    {
     "data": {
      "text/plain": [
       "16"
      ]
     },
     "execution_count": 23,
     "metadata": {},
     "output_type": "execute_result"
    }
   ],
   "source": [
    "tokens[1].size"
   ]
  },
  {
   "cell_type": "code",
   "execution_count": 24,
   "id": "1913e5ec",
   "metadata": {},
   "outputs": [
    {
     "data": {
      "text/plain": [
       "16"
      ]
     },
     "execution_count": 24,
     "metadata": {},
     "output_type": "execute_result"
    }
   ],
   "source": [
    "max_len"
   ]
  },
  {
   "cell_type": "code",
   "execution_count": 25,
   "id": "c991a1fd",
   "metadata": {},
   "outputs": [],
   "source": [
    "#initializing the similarity martrix to zero\n",
    "similarity_matrix=np.zeros([len(tokens),len(tokens)])\n",
    "#calculating the spatial distance \n",
    "for i,row_embedding in enumerate(tokens):\n",
    "    for j,column_embedding in enumerate(tokens):\n",
    "        similarity_matrix[i][j]=1-spatial.distance.cosine(row_embedding,column_embedding)\n",
    "        \n",
    "        "
   ]
  },
  {
   "cell_type": "code",
   "execution_count": 18,
   "id": "2991c5a8",
   "metadata": {},
   "outputs": [],
   "source": []
  },
  {
   "cell_type": "code",
   "execution_count": 26,
   "id": "8d5f0cd9",
   "metadata": {},
   "outputs": [
    {
     "data": {
      "text/plain": [
       "array([[ 1.00000000e+00, -2.95044452e-01,  1.26176909e-01,\n",
       "         2.68943965e-01, -2.42299214e-01,  2.20348090e-01,\n",
       "        -8.86183009e-02,  1.72083303e-02, -1.46867737e-01,\n",
       "        -2.34956443e-01, -3.69692564e-01,  5.34741998e-01,\n",
       "         1.60702784e-02],\n",
       "       [-2.95044452e-01,  1.00000000e+00, -1.45589083e-01,\n",
       "        -4.47241843e-01,  1.65143281e-01, -3.50087374e-01,\n",
       "         7.06330687e-03,  2.30023116e-01, -2.55551696e-01,\n",
       "         2.99444556e-01, -7.85968918e-03, -1.89115167e-01,\n",
       "        -5.73940158e-01],\n",
       "       [ 1.26176909e-01, -1.45589083e-01,  1.00000000e+00,\n",
       "        -1.80190489e-01,  3.76348346e-01, -2.88418055e-01,\n",
       "        -1.44839749e-01,  4.18620199e-01,  2.58350968e-02,\n",
       "         4.17472601e-01, -6.73164353e-02, -2.74907380e-01,\n",
       "         4.00285035e-01],\n",
       "       [ 2.68943965e-01, -4.47241843e-01, -1.80190489e-01,\n",
       "         1.00000000e+00, -4.63924766e-01,  1.02426782e-01,\n",
       "        -9.99821350e-02, -8.65097269e-02, -8.13585371e-02,\n",
       "        -2.95402050e-01,  3.51790816e-01,  4.67596054e-01,\n",
       "         3.03054452e-01],\n",
       "       [-2.42299214e-01,  1.65143281e-01,  3.76348346e-01,\n",
       "        -4.63924766e-01,  1.00000000e+00, -2.91769113e-02,\n",
       "        -4.82667945e-02, -1.12740621e-01, -3.16507101e-01,\n",
       "         1.45014767e-02, -4.32037674e-02, -2.09164843e-01,\n",
       "         1.34115508e-02],\n",
       "       [ 2.20348090e-01, -3.50087374e-01, -2.88418055e-01,\n",
       "         1.02426782e-01, -2.91769113e-02,  1.00000000e+00,\n",
       "        -2.16551900e-01, -7.69519294e-03,  8.37341358e-04,\n",
       "        -5.85904419e-01, -2.22728059e-01,  1.81587160e-01,\n",
       "         3.13951582e-01],\n",
       "       [-8.86183009e-02,  7.06330687e-03, -1.44839749e-01,\n",
       "        -9.99821350e-02, -4.82667945e-02, -2.16551900e-01,\n",
       "         1.00000000e+00, -3.56885433e-01, -1.60555363e-01,\n",
       "        -1.09436579e-01, -2.84105301e-01,  4.30762507e-02,\n",
       "        -4.04644072e-01],\n",
       "       [ 1.72083303e-02,  2.30023116e-01,  4.18620199e-01,\n",
       "        -8.65097269e-02, -1.12740621e-01, -7.69519294e-03,\n",
       "        -3.56885433e-01,  1.00000000e+00,  1.99257061e-02,\n",
       "         9.14012492e-02, -7.85291046e-02, -5.08557737e-01,\n",
       "         1.14696808e-02],\n",
       "       [-1.46867737e-01, -2.55551696e-01,  2.58350968e-02,\n",
       "        -8.13585371e-02, -3.16507101e-01,  8.37341358e-04,\n",
       "        -1.60555363e-01,  1.99257061e-02,  1.00000000e+00,\n",
       "         4.66192693e-01,  2.59346902e-01, -8.10708031e-02,\n",
       "         3.69182408e-01],\n",
       "       [-2.34956443e-01,  2.99444556e-01,  4.17472601e-01,\n",
       "        -2.95402050e-01,  1.45014767e-02, -5.85904419e-01,\n",
       "        -1.09436579e-01,  9.14012492e-02,  4.66192693e-01,\n",
       "         1.00000000e+00,  5.74093647e-02, -1.75603896e-01,\n",
       "         1.14594698e-02],\n",
       "       [-3.69692564e-01, -7.85968918e-03, -6.73164353e-02,\n",
       "         3.51790816e-01, -4.32037674e-02, -2.22728059e-01,\n",
       "        -2.84105301e-01, -7.85291046e-02,  2.59346902e-01,\n",
       "         5.74093647e-02,  1.00000000e+00, -1.64192885e-01,\n",
       "         5.32433391e-01],\n",
       "       [ 5.34741998e-01, -1.89115167e-01, -2.74907380e-01,\n",
       "         4.67596054e-01, -2.09164843e-01,  1.81587160e-01,\n",
       "         4.30762507e-02, -5.08557737e-01, -8.10708031e-02,\n",
       "        -1.75603896e-01, -1.64192885e-01,  1.00000000e+00,\n",
       "        -5.42950109e-02],\n",
       "       [ 1.60702784e-02, -5.73940158e-01,  4.00285035e-01,\n",
       "         3.03054452e-01,  1.34115508e-02,  3.13951582e-01,\n",
       "        -4.04644072e-01,  1.14696808e-02,  3.69182408e-01,\n",
       "         1.14594698e-02,  5.32433391e-01, -5.42950109e-02,\n",
       "         1.00000000e+00]])"
      ]
     },
     "execution_count": 26,
     "metadata": {},
     "output_type": "execute_result"
    }
   ],
   "source": [
    "#similarity matrix of sentances . value 1 for same sentance .\n",
    "similarity_matrix"
   ]
  },
  {
   "cell_type": "code",
   "execution_count": 27,
   "id": "4f7b4cd1",
   "metadata": {},
   "outputs": [],
   "source": [
    "#initialising the text_rank to one\n",
    "TextRank=np.ones([len(similarity_matrix[0])])"
   ]
  },
  {
   "cell_type": "code",
   "execution_count": 28,
   "id": "51a6afc6",
   "metadata": {},
   "outputs": [
    {
     "data": {
      "text/plain": [
       "array([1., 1., 1., 1., 1., 1., 1., 1., 1., 1., 1., 1., 1.])"
      ]
     },
     "execution_count": 28,
     "metadata": {},
     "output_type": "execute_result"
    }
   ],
   "source": [
    "TextRank.reshape(13,)"
   ]
  },
  {
   "cell_type": "code",
   "execution_count": 29,
   "id": "3540b329",
   "metadata": {},
   "outputs": [],
   "source": [
    "#calculating the text_rank of each sentance\n",
    "for i in range(len(similarity_matrix[0])):\n",
    "    for j in range(len(similarity_matrix[0])):\n",
    "        if (j!=i):\n",
    "            relativity=0.85*(TextRank[j]*similarity_matrix[i][j])\n",
    "    TextRank[i]=(1-0.85)+relativity                  "
   ]
  },
  {
   "cell_type": "code",
   "execution_count": 30,
   "id": "a00b9592",
   "metadata": {},
   "outputs": [
    {
     "data": {
      "text/plain": [
       "array([ 0.16365974, -0.33784913,  0.49024228,  0.40759628,  0.16139982,\n",
       "        0.41685884, -0.19394746,  0.15974923,  0.46380505,  0.15974055,\n",
       "        0.60256838,  0.10384924,  0.14520728])"
      ]
     },
     "execution_count": 30,
     "metadata": {},
     "output_type": "execute_result"
    }
   ],
   "source": [
    "TextRank"
   ]
  },
  {
   "cell_type": "code",
   "execution_count": 31,
   "id": "9c715f33",
   "metadata": {},
   "outputs": [],
   "source": [
    "#attaching textRank to respective sentance\n",
    "top_sentance={sentance:TextRank[index] for index ,sentance in enumerate(sentences)}"
   ]
  },
  {
   "cell_type": "code",
   "execution_count": 32,
   "id": "023eea94",
   "metadata": {},
   "outputs": [
    {
     "data": {
      "text/plain": [
       "{'In its most general sense, the term \"world\" refers to the totality of entities, to the whole of reality or to everything that is': 0.16365973660722377,\n",
       " '[1] The nature of the world has been conceptualized differently in different fields': -0.3378491342067718,\n",
       " ' Some conceptions see the world as unique while others talk of a \"plurality of worlds\"': 0.49024228006601334,\n",
       " ' Some treat the world as one simple object while others analyze the world as a complex made up of many parts': 0.4075962841510773,\n",
       " ' In scientific cosmology the world or universe is commonly defined as \"[t]he totality of all space and time; all that is, has been, and will be\"': 0.1613998181652278,\n",
       " ' Theories of modality, on the other hand, talk of possible worlds as complete and consistent ways how things could have been': 0.41685884445905685,\n",
       " ' Phenomenology, starting from the horizon of co-given objects present in the periphery of every experience, defines the world as the biggest horizon or the \"horizon of all horizons\"': -0.1939474612474441,\n",
       " ' In philosophy of mind, the world is commonly contrasted with the mind as that which is represented by the mind': 0.15974922869354488,\n",
       " \" Theology conceptualizes the world in relation to God, for example, as God's creation, as identical to God or as the two being interdependent\": 0.4638050466775894,\n",
       " ' In religions, there is often a tendency to downgrade the material or sensory world in favor of a spiritual world to be sought through religious practice': 0.159740549325943,\n",
       " ' A comprehensive representation of the world and our place in it, as is commonly found in religions, is known as a worldview': 0.602568382024765,\n",
       " ' Cosmogony is the field that studies the origin or creation of the world while eschatology refers to the science or doctrine of the last things or of the end of the world': 0.10384924076497556,\n",
       " '': 0.14520727869271555}"
      ]
     },
     "execution_count": 32,
     "metadata": {},
     "output_type": "execute_result"
    }
   ],
   "source": [
    "#textRank of each sentance\n",
    "top_sentance"
   ]
  },
  {
   "cell_type": "code",
   "execution_count": 33,
   "id": "b8051b12",
   "metadata": {},
   "outputs": [],
   "source": [
    "#collecting top5 sentences\n",
    "top=dict(sorted(top_sentance.items(), key=lambda x: x[1], reverse=True)[:5])"
   ]
  },
  {
   "cell_type": "code",
   "execution_count": 34,
   "id": "e3fdd63e",
   "metadata": {},
   "outputs": [],
   "source": [
    "for sent in sentance:\n",
    "    if sent in top.keys():\n",
    "        print(sent)    "
   ]
  },
  {
   "cell_type": "code",
   "execution_count": 35,
   "id": "959e000b",
   "metadata": {},
   "outputs": [
    {
     "data": {
      "text/plain": [
       "{' A comprehensive representation of the world and our place in it, as is commonly found in religions, is known as a worldview': 0.602568382024765,\n",
       " ' Some conceptions see the world as unique while others talk of a \"plurality of worlds\"': 0.49024228006601334,\n",
       " \" Theology conceptualizes the world in relation to God, for example, as God's creation, as identical to God or as the two being interdependent\": 0.4638050466775894,\n",
       " ' Theories of modality, on the other hand, talk of possible worlds as complete and consistent ways how things could have been': 0.41685884445905685,\n",
       " ' Some treat the world as one simple object while others analyze the world as a complex made up of many parts': 0.4075962841510773}"
      ]
     },
     "execution_count": 35,
     "metadata": {},
     "output_type": "execute_result"
    }
   ],
   "source": [
    "top"
   ]
  },
  {
   "cell_type": "code",
   "execution_count": null,
   "id": "fa1a4ef0",
   "metadata": {},
   "outputs": [],
   "source": []
  }
 ],
 "metadata": {
  "kernelspec": {
   "display_name": "Python 3 (ipykernel)",
   "language": "python",
   "name": "python3"
  },
  "language_info": {
   "codemirror_mode": {
    "name": "ipython",
    "version": 3
   },
   "file_extension": ".py",
   "mimetype": "text/x-python",
   "name": "python",
   "nbconvert_exporter": "python",
   "pygments_lexer": "ipython3",
   "version": "3.9.7"
  }
 },
 "nbformat": 4,
 "nbformat_minor": 5
}
